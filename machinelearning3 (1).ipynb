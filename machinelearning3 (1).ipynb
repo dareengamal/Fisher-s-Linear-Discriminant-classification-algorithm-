{
  "nbformat": 4,
  "nbformat_minor": 0,
  "metadata": {
    "colab": {
      "provenance": []
    },
    "kernelspec": {
      "name": "python3",
      "display_name": "Python 3"
    },
    "language_info": {
      "name": "python"
    }
  },
  "cells": [
    {
      "cell_type": "code",
      "execution_count": 1,
      "metadata": {
        "colab": {
          "base_uri": "https://localhost:8080/"
        },
        "id": "eKWht16TmIz1",
        "outputId": "da6d4ad4-0746-4ac2-e736-39ba6c9bb63a"
      },
      "outputs": [
        {
          "output_type": "stream",
          "name": "stdout",
          "text": [
            "Looking in indexes: https://pypi.org/simple, https://us-python.pkg.dev/colab-wheels/public/simple/\n",
            "Collecting patool\n",
            "  Downloading patool-1.12-py2.py3-none-any.whl (77 kB)\n",
            "\u001b[2K     \u001b[90m━━━━━━━━━━━━━━━━━━━━━━━━━━━━━━━━━━━━━━━━\u001b[0m \u001b[32m77.5/77.5 KB\u001b[0m \u001b[31m4.1 MB/s\u001b[0m eta \u001b[36m0:00:00\u001b[0m\n",
            "\u001b[?25hInstalling collected packages: patool\n",
            "Successfully installed patool-1.12\n"
          ]
        }
      ],
      "source": [
        "!pip install patool"
      ]
    },
    {
      "cell_type": "code",
      "source": [
        "import numpy as np\n",
        "import matplotlib.pyplot as plt\n",
        "import patoolib\n",
        "from PIL import Image\n",
        "from sklearn.metrics import confusion_matrix, ConfusionMatrixDisplay\n",
        "from sklearn import metrics\n",
        "import seaborn as sns\n",
        "import imageio\n",
        "from sklearn.metrics import accuracy_score\n",
        "import pandas as pd\n"
      ],
      "metadata": {
        "id": "resYeKxY0bDq"
      },
      "execution_count": 2,
      "outputs": []
    },
    {
      "cell_type": "code",
      "source": [
        "patoolib.extract_archive('/content/Data.zip')"
      ],
      "metadata": {
        "colab": {
          "base_uri": "https://localhost:8080/",
          "height": 90
        },
        "id": "sXM0z4vD0d8-",
        "outputId": "10973d76-8d7d-4405-ab9c-2f8571e09ddc"
      },
      "execution_count": 3,
      "outputs": [
        {
          "output_type": "stream",
          "name": "stdout",
          "text": [
            "patool: Extracting /content/Data.zip ...\n",
            "patool: running /usr/bin/7z x -o./Unpack_oank_zid -- /content/Data.zip\n",
            "patool: ... /content/Data.zip extracted to `Data'.\n"
          ]
        },
        {
          "output_type": "execute_result",
          "data": {
            "text/plain": [
              "'Data'"
            ],
            "application/vnd.google.colaboratory.intrinsic+json": {
              "type": "string"
            }
          },
          "metadata": {},
          "execution_count": 3
        }
      ]
    },
    {
      "cell_type": "code",
      "source": [
        "Path =\"/content/Data/Train/\"\n",
        "Train = []\n",
        "for i in range(1,2401): \n",
        "    im_path = Path + '{}.jpg'.format(i)\n",
        "    im = imageio.imread(str(im_path))\n",
        "    im_numpy = np.array(im)\n",
        "    im_numpy_flatten = im_numpy.flatten().reshape(1,784)\n",
        "    Train.append(im_numpy_flatten)\t\n",
        "Trainn = np.array(Train).reshape(2400,784)\n",
        "\n"
      ],
      "metadata": {
        "id": "o7M2pZd80la5"
      },
      "execution_count": 11,
      "outputs": []
    },
    {
      "cell_type": "markdown",
      "source": [
        "function to get the mean"
      ],
      "metadata": {
        "id": "rT1wEXsZ8tcu"
      }
    },
    {
      "cell_type": "code",
      "source": [
        "def mean_fun(list):\n",
        "    mean_val = np.round((np.sum(list, axis = 0, keepdims = True))/(len(list)),decimals=8)\n",
        "    return mean_val"
      ],
      "metadata": {
        "id": "R29ntrpQ1xUo"
      },
      "execution_count": 8,
      "outputs": []
    },
    {
      "cell_type": "code",
      "source": [
        "#Separate classes\n",
        "def seperate_class (Train):\n",
        "\tclassList  = [Train[start:start+240] for start in range(0,len(Train),240)]\n",
        "\treturn classList"
      ],
      "metadata": {
        "id": "2Q3fzDXM1yJa"
      },
      "execution_count": 9,
      "outputs": []
    },
    {
      "cell_type": "markdown",
      "source": [
        "\n",
        "\n",
        "#w = S−1(m − m ).\n",
        "\n"
      ],
      "metadata": {
        "id": "LD3q9Ozc_ZQY"
      }
    },
    {
      "cell_type": "code",
      "source": [
        "W0_All = []\n",
        "W1_All = []\n",
        "Class_a_list=[]\n",
        "Class_b_list=[]  \n",
        "M_a_list=[]\n",
        "M_b_list=[]\n",
        "S_a = np.zeros((784,784))\n",
        "S_b = np.zeros((784,784))\n",
        "\n",
        "data_whole_list = seperate_class(Trainn)\n",
        "\n",
        "for i in range(10):\n",
        "\n",
        "    Class_a = data_whole_list[i]\n",
        "    Class_a_list.append(Class_a)\n",
        "   #get the mean \n",
        "    M_a = mean_fun(Class_a_list[i])\n",
        "    M_a_list.append(M_a)\n",
        "    \n",
        "    CL_b = [value for index,value in enumerate(data_whole_list) if index!= i]\n",
        "    CL_b_array=np.array(CL_b).reshape(2160,784)\n",
        "    Class_b_list.append(CL_b_array)\n",
        "       \n",
        "    M_b = mean_fun(Class_b_list[i])\n",
        "    M_b_list.append(M_b)\n",
        "    \n",
        "\n",
        "  "
      ],
      "metadata": {
        "id": "-DzXxbzY2B3v"
      },
      "execution_count": 60,
      "outputs": []
    },
    {
      "cell_type": "markdown",
      "source": [
        "get the sw\n",
        "\n",
        "Sw = S_a + S_b\n",
        "\n",
        "\n",
        "\n",
        "s a,b= (m2-m1)(m2-m1)T\n",
        "\n",
        "sw-1"
      ],
      "metadata": {
        "id": "vol8jrvDA4Ne"
      }
    },
    {
      "cell_type": "code",
      "source": [
        "for i in range(10):\n",
        "    S_a = S_a + np.dot((np.subtract(Class_a_list[i], M_a_list[i])).T.reshape(784,240), np.subtract(Class_a_list[i], M_a_list[i]).reshape(240,784))\n",
        "    S_b = S_b + np.dot((np.subtract(Class_b_list[i], M_b_list[i])).T.reshape(784,2160), np.subtract(Class_b_list[i],M_b_list[i]).reshape(2160,784))\n",
        "\n",
        "    Sw = S_a + S_b\n",
        "    Sw_inv = np.linalg.pinv(Sw)\n",
        "    \n",
        "\n",
        "    \n",
        "    W1 = np.dot(Sw_inv,(np.subtract(M_b_list[i],M_a_list[i]).T))\n",
        "    W1_All.append(W1)\n",
        "    W0 = -.5 * np.dot(sum(M_a_list[i], M_b_list[i]),np.array(W1))\n",
        "    W0_All.append(W0)"
      ],
      "metadata": {
        "id": "IZMosfnyAgH6"
      },
      "execution_count": 61,
      "outputs": []
    },
    {
      "cell_type": "markdown",
      "source": [
        "#examine Fisher’s Linear Discriminant without including the bais term"
      ],
      "metadata": {
        "id": "kllaJD9Z8b6g"
      }
    },
    {
      "cell_type": "code",
      "source": [
        "resultLabels = np.ones([200])\n",
        "\n",
        "\n",
        "for i in range(200):\n",
        "    curri = i+1\n",
        "    newpath = '/content/Data/Test/' + str(curri) + \".jpg\"\n",
        "    img = Image.open(newpath)\n",
        "    image = np.asarray(img).flatten()\n",
        "    \n",
        "    outputWeights = np.zeros([10])\n",
        "    predictions = []\n",
        "    for j in range(10):\n",
        "      \n",
        "      testing = (np.dot(image,W1_All[j]))\n",
        "      predictions.append(testing)\n",
        "\n",
        "    minElement = np.argmin(predictions)\n",
        "    resultLabels[i] = minElement"
      ],
      "metadata": {
        "id": "DAoh9QKp2z7i"
      },
      "execution_count": 47,
      "outputs": []
    },
    {
      "cell_type": "code",
      "source": [
        "originalLabels = np.genfromtxt(\"/content/Data/Test/Test Labels.txt\", delimiter = \",\")\n",
        "originalLabels.astype(int)"
      ],
      "metadata": {
        "colab": {
          "base_uri": "https://localhost:8080/"
        },
        "id": "-lB9aTTy3K84",
        "outputId": "22ee229b-133c-49a9-ffd2-c79f688aae18"
      },
      "execution_count": 48,
      "outputs": [
        {
          "output_type": "execute_result",
          "data": {
            "text/plain": [
              "array([0, 0, 0, 0, 0, 0, 0, 0, 0, 0, 0, 0, 0, 0, 0, 0, 0, 0, 0, 0, 1, 1,\n",
              "       1, 1, 1, 1, 1, 1, 1, 1, 1, 1, 1, 1, 1, 1, 1, 1, 1, 1, 2, 2, 2, 2,\n",
              "       2, 2, 2, 2, 2, 2, 2, 2, 2, 2, 2, 2, 2, 2, 2, 2, 3, 3, 3, 3, 3, 3,\n",
              "       3, 3, 3, 3, 3, 3, 3, 3, 3, 3, 3, 3, 3, 3, 4, 4, 4, 4, 4, 4, 4, 4,\n",
              "       4, 4, 4, 4, 4, 4, 4, 4, 4, 4, 4, 4, 5, 5, 5, 5, 5, 5, 5, 5, 5, 5,\n",
              "       5, 5, 5, 5, 5, 5, 5, 5, 5, 5, 6, 6, 6, 6, 6, 6, 6, 6, 6, 6, 6, 6,\n",
              "       6, 6, 6, 6, 6, 6, 6, 6, 7, 7, 7, 7, 7, 7, 7, 7, 7, 7, 7, 7, 7, 7,\n",
              "       7, 7, 7, 7, 7, 7, 8, 8, 8, 8, 8, 8, 8, 8, 8, 8, 8, 8, 8, 8, 8, 8,\n",
              "       8, 8, 8, 8, 9, 9, 9, 9, 9, 9, 9, 9, 9, 9, 9, 9, 9, 9, 9, 9, 9, 9,\n",
              "       9, 9])"
            ]
          },
          "metadata": {},
          "execution_count": 48
        }
      ]
    },
    {
      "cell_type": "code",
      "source": [
        "accuracy_score(originalLabels,resultLabels)"
      ],
      "metadata": {
        "colab": {
          "base_uri": "https://localhost:8080/"
        },
        "id": "8N9dRRZd3zg7",
        "outputId": "72b185f4-ea00-49a5-8a1f-30ab8d77eb2c"
      },
      "execution_count": 49,
      "outputs": [
        {
          "output_type": "execute_result",
          "data": {
            "text/plain": [
              "0.65"
            ]
          },
          "metadata": {},
          "execution_count": 49
        }
      ]
    },
    {
      "cell_type": "code",
      "source": [
        "def confusionMat(original, result):\n",
        "    cm = np.zeros([10, 10])\n",
        "    for i in range(len(original)):\n",
        "        cm[int(original[i])][int(result[i])] += 1\n",
        "        \n",
        "    return cm.astype(int)"
      ],
      "metadata": {
        "id": "A0nMlu3Y4fcy"
      },
      "execution_count": 50,
      "outputs": []
    },
    {
      "cell_type": "code",
      "source": [
        "cm = confusionMat(originalLabels, resultLabels)\n",
        "cm"
      ],
      "metadata": {
        "colab": {
          "base_uri": "https://localhost:8080/"
        },
        "id": "_Cl1GNog37OO",
        "outputId": "7e2b546f-b7d8-4aca-fe32-b8faefa0c383"
      },
      "execution_count": 51,
      "outputs": [
        {
          "output_type": "execute_result",
          "data": {
            "text/plain": [
              "array([[20,  0,  0,  0,  0,  0,  0,  0,  0,  0],\n",
              "       [ 0, 20,  0,  0,  0,  0,  0,  0,  0,  0],\n",
              "       [ 7,  2,  9,  1,  0,  1,  0,  0,  0,  0],\n",
              "       [ 1,  0,  1, 18,  0,  0,  0,  0,  0,  0],\n",
              "       [ 1,  0,  1,  5, 12,  1,  0,  0,  0,  0],\n",
              "       [ 7,  0,  0,  5,  0,  7,  1,  0,  0,  0],\n",
              "       [ 2,  0,  1,  0,  0,  0, 17,  0,  0,  0],\n",
              "       [ 5,  2,  2,  1,  0,  0,  0, 10,  0,  0],\n",
              "       [ 1,  0,  4,  4,  0,  1,  0,  0, 10,  0],\n",
              "       [ 4,  0,  3,  3,  2,  0,  0,  1,  0,  7]])"
            ]
          },
          "metadata": {},
          "execution_count": 51
        }
      ]
    },
    {
      "cell_type": "code",
      "source": [
        "\n",
        "fig=sns.heatmap(cm, annot=True , cmap='Blues')"
      ],
      "metadata": {
        "colab": {
          "base_uri": "https://localhost:8080/",
          "height": 269
        },
        "id": "_qHkFmfS4k42",
        "outputId": "a71141cb-f65b-47c9-e08f-fe8a93232008"
      },
      "execution_count": 63,
      "outputs": [
        {
          "output_type": "display_data",
          "data": {
            "text/plain": [
              "<Figure size 432x288 with 2 Axes>"
            ],
            "image/png": "[encoded data removed]"
          },
          "metadata": {
            "needs_background": "light"
          }
        }
      ]
    },
    {
      "cell_type": "code",
      "source": [
        "fig.figure.savefig(\"ConfusionNoBias.jpg\")"
      ],
      "metadata": {
        "id": "KSQuriXS4r-Y"
      },
      "execution_count": 53,
      "outputs": []
    },
    {
      "cell_type": "markdown",
      "source": [
        "#test with bais term"
      ],
      "metadata": {
        "id": "JYZBt6FP52W-"
      }
    },
    {
      "cell_type": "markdown",
      "source": [
        "the accuracy with the bais is higher which effect the performance of the classifier . thus, it will perform better"
      ],
      "metadata": {
        "id": "G8UbbQeA7gKL"
      }
    },
    {
      "cell_type": "code",
      "source": [
        "resultLabels = np.ones([200])\n",
        "\n",
        "for i in range(200):\n",
        "    curri = i+1\n",
        "    newpath = '/content/Data/Test/' + str(curri) + \".jpg\"\n",
        "    img = Image.open(newpath)\n",
        "    image = np.asarray(img).flatten()\n",
        "    \n",
        "    outputWeights = np.zeros([10])\n",
        "    predictions = []\n",
        "    for j in range(10):\n",
        "      \n",
        "      testing = (np.dot(image,W1_All[j]))  + W0_All[j]\n",
        "      predictions.append(testing)\n",
        "\n",
        "    minElement = np.argmin(predictions)\n",
        "    resultLabels[i] = minElement"
      ],
      "metadata": {
        "id": "emH7Mslh46Fz"
      },
      "execution_count": 54,
      "outputs": []
    },
    {
      "cell_type": "code",
      "source": [
        "originalLabels = np.genfromtxt(\"/content/Data/Test/Test Labels.txt\", delimiter = \",\")\n",
        "originalLabels.astype(int)"
      ],
      "metadata": {
        "colab": {
          "base_uri": "https://localhost:8080/"
        },
        "id": "RUmrnptl5ert",
        "outputId": "a1ad6063-80ed-4f1b-a2e6-ce4f61384aeb"
      },
      "execution_count": 55,
      "outputs": [
        {
          "output_type": "execute_result",
          "data": {
            "text/plain": [
              "array([0, 0, 0, 0, 0, 0, 0, 0, 0, 0, 0, 0, 0, 0, 0, 0, 0, 0, 0, 0, 1, 1,\n",
              "       1, 1, 1, 1, 1, 1, 1, 1, 1, 1, 1, 1, 1, 1, 1, 1, 1, 1, 2, 2, 2, 2,\n",
              "       2, 2, 2, 2, 2, 2, 2, 2, 2, 2, 2, 2, 2, 2, 2, 2, 3, 3, 3, 3, 3, 3,\n",
              "       3, 3, 3, 3, 3, 3, 3, 3, 3, 3, 3, 3, 3, 3, 4, 4, 4, 4, 4, 4, 4, 4,\n",
              "       4, 4, 4, 4, 4, 4, 4, 4, 4, 4, 4, 4, 5, 5, 5, 5, 5, 5, 5, 5, 5, 5,\n",
              "       5, 5, 5, 5, 5, 5, 5, 5, 5, 5, 6, 6, 6, 6, 6, 6, 6, 6, 6, 6, 6, 6,\n",
              "       6, 6, 6, 6, 6, 6, 6, 6, 7, 7, 7, 7, 7, 7, 7, 7, 7, 7, 7, 7, 7, 7,\n",
              "       7, 7, 7, 7, 7, 7, 8, 8, 8, 8, 8, 8, 8, 8, 8, 8, 8, 8, 8, 8, 8, 8,\n",
              "       8, 8, 8, 8, 9, 9, 9, 9, 9, 9, 9, 9, 9, 9, 9, 9, 9, 9, 9, 9, 9, 9,\n",
              "       9, 9])"
            ]
          },
          "metadata": {},
          "execution_count": 55
        }
      ]
    },
    {
      "cell_type": "code",
      "source": [
        "accuracy_score(originalLabels,resultLabels)"
      ],
      "metadata": {
        "colab": {
          "base_uri": "https://localhost:8080/"
        },
        "id": "E-NgwYZ46P-y",
        "outputId": "e5df8735-6f68-406c-b819-db287ee608f4"
      },
      "execution_count": 56,
      "outputs": [
        {
          "output_type": "execute_result",
          "data": {
            "text/plain": [
              "0.82"
            ]
          },
          "metadata": {},
          "execution_count": 56
        }
      ]
    },
    {
      "cell_type": "code",
      "source": [
        "def confusionMat(original, result):\n",
        "    cm = np.zeros([10, 10])\n",
        "    for i in range(len(original)):\n",
        "        cm[int(original[i])][int(result[i])] += 1\n",
        "        \n",
        "    return cm.astype(int)"
      ],
      "metadata": {
        "id": "jmj3MxMr5ucv"
      },
      "execution_count": 57,
      "outputs": []
    },
    {
      "cell_type": "code",
      "source": [
        "cm = confusionMat(originalLabels, resultLabels)\n",
        "cm"
      ],
      "metadata": {
        "colab": {
          "base_uri": "https://localhost:8080/"
        },
        "id": "WVf5ofgb5ufv",
        "outputId": "e3066567-fc3f-4a7e-cb6b-62312a1991a5"
      },
      "execution_count": 58,
      "outputs": [
        {
          "output_type": "execute_result",
          "data": {
            "text/plain": [
              "array([[20,  0,  0,  0,  0,  0,  0,  0,  0,  0],\n",
              "       [ 0, 20,  0,  0,  0,  0,  0,  0,  0,  0],\n",
              "       [ 2,  3, 11,  2,  1,  1,  0,  0,  0,  0],\n",
              "       [ 0,  0,  0, 17,  0,  1,  0,  0,  2,  0],\n",
              "       [ 0,  0,  0,  0, 18,  1,  0,  0,  1,  0],\n",
              "       [ 0,  0,  0,  2,  0, 15,  1,  0,  2,  0],\n",
              "       [ 0,  0,  0,  0,  0,  0, 20,  0,  0,  0],\n",
              "       [ 0,  0,  0,  1,  0,  0,  0, 16,  0,  3],\n",
              "       [ 0,  0,  1,  0,  0,  3,  0,  0, 15,  1],\n",
              "       [ 2,  0,  0,  0,  1,  1,  0,  4,  0, 12]])"
            ]
          },
          "metadata": {},
          "execution_count": 58
        }
      ]
    },
    {
      "cell_type": "code",
      "source": [
        "\n",
        "fig=sns.heatmap(cm, annot=True , cmap='Blues')"
      ],
      "metadata": {
        "colab": {
          "base_uri": "https://localhost:8080/",
          "height": 269
        },
        "id": "G2PlXsbD50QH",
        "outputId": "6d028029-6a9f-4f49-9011-538c6bd41a0b"
      },
      "execution_count": 62,
      "outputs": [
        {
          "output_type": "display_data",
          "data": {
            "text/plain": [
              "<Figure size 432x288 with 2 Axes>"
            ],
            "image/png": "[encoded data removed]"
          },
          "metadata": {
            "needs_background": "light"
          }
        }
      ]
    },
    {
      "cell_type": "code",
      "source": [
        "fig.figure.savefig(\"ConfusionWithBias.jpg\")"
      ],
      "metadata": {
        "id": "vDCWi8t36aTd"
      },
      "execution_count": 38,
      "outputs": []
    }
  ]
}